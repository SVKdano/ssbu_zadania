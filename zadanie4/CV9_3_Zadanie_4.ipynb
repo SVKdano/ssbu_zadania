{
 "cells": [
  {
   "cell_type": "markdown",
   "id": "6854f873-5d15-4d3c-a71b-8858b7de6d12",
   "metadata": {},
   "source": [
    "## Zadanie 4 (5b)\n",
    "\n",
    "V tomto zadaní budete pracovať s nástrojom FamLinkX a datasetom **dna_screening_zadanie** dostupným v priečinku `inputs`. \n",
    "\n",
    "Dataset obsahuje údaje matky, dcéry a dvoch strýkov, ktorí sú bratmi muža, u ktorého predpokladáme, že je otcom dcéry. Je potrebné potvrdiť alebo vyvrátiť či bol muž otcom dievčaťa. Pomocou nástroja FamLinkX zostavte hypotézy s rodokmeňom členov, vykonajte analýzu, určte výsledné pravdepodobnosti hypotéz a uveďte výsledné rozhodnutie na potvrdenie/zamietnutie otcovstva.\n",
    "\n",
    "<img src=\"data/family_tree.png\" width=\"100%\"/>"
   ]
  },
  {
   "cell_type": "markdown",
   "id": "8af7058b-20cf-4ece-8c7f-e2f38c33e94f",
   "metadata": {},
   "source": [
    "### Úloha 1 (1b)"
   ]
  },
  {
   "cell_type": "markdown",
   "id": "8ceeaa27-3e3e-4b13-9251-2a375fc948d1",
   "metadata": {},
   "source": [
    "**Formulujte hypotézy pre riešenie úlohy:**"
   ]
  },
  {
   "cell_type": "code",
   "execution_count": null,
   "id": "da4cdbe6-41bd-4dd6-a345-7ad73e19a057",
   "metadata": {},
   "outputs": [],
   "source": [
    "H0: Muž je jej otec a jeho bratia sú jej strýkovia\n",
    "H1: Muž NIE je jej otec a jeho bratia NIE sú jej strýkovia"
   ]
  },
  {
   "cell_type": "markdown",
   "id": "96a14512-f20f-499c-8398-d7cd3e6d1289",
   "metadata": {},
   "source": [
    "### Úloha 2 (4b)\n",
    "\n",
    "Vykonajte analýzu pomocou nástroja FamLinkX. Ako referenčnú databázu použite Českú alebo Nemeckú databázu. Ako prílohu zadania odovzdajte vygenerovaný report z analýzy (Case report vo formáte .rtf). \n",
    "\n",
    "**Uveďte LR a pravdepodobnosť (W) pre jednotlivé hypotézy a Váš záver analýzy:**"
   ]
  },
  {
   "cell_type": "code",
   "execution_count": null,
   "id": "2d1762aa-3a01-40e9-b97e-d40ebce09b3d",
   "metadata": {},
   "outputs": [],
   "source": [
    "LR = 7.04264e006\n",
    "W(H0) = 0,999666\n",
    "W(H1) = 0,000334\n",
    "\n",
    "Na základe hodnôt W by som potvrdil H1 a zamietol H1"
   ]
  }
 ],
 "metadata": {
  "kernelspec": {
   "display_name": "R",
   "language": "R",
   "name": "ir"
  },
  "language_info": {
   "codemirror_mode": "r",
   "file_extension": ".r",
   "mimetype": "text/x-r-source",
   "name": "R",
   "pygments_lexer": "r",
   "version": "4.4.0"
  }
 },
 "nbformat": 4,
 "nbformat_minor": 5
}
