{
 "cells": [
  {
   "cell_type": "markdown",
   "id": "6854f873-5d15-4d3c-a71b-8858b7de6d12",
   "metadata": {},
   "source": [
    "## Zadanie 1 (5b)\n",
    "\n",
    "V tomto zadaní budete pracovať s datasetom Heart Failure Clinical Records, ktorý obsahuje záznamy pacientov so zlyhaním srdca, zozbierané počas obdobia ich sledovania.\n",
    "\n",
    "Dataset je dostupný online: https://archive.ics.uci.edu/dataset/519/heart+failure+clinical+records\n",
    "\n",
    "Na stránke nájdete aj doplňujúce informácie o premenných, ktoré dataset obsahuje. (Odporúčam prečítať :) ) \n"
   ]
  },
  {
   "cell_type": "code",
   "execution_count": 2,
   "id": "d71ad566-64ab-4be4-ab6b-d5cc2807df4d",
   "metadata": {},
   "outputs": [
    {
     "name": "stderr",
     "output_type": "stream",
     "text": [
      "── \u001b[1mAttaching core tidyverse packages\u001b[22m ──────────────────────────────────────────────────────────────── tidyverse 2.0.0 ──\n",
      "\u001b[32m✔\u001b[39m \u001b[34mdplyr    \u001b[39m 1.1.4     \u001b[32m✔\u001b[39m \u001b[34mreadr    \u001b[39m 2.1.5\n",
      "\u001b[32m✔\u001b[39m \u001b[34mforcats  \u001b[39m 1.0.0     \u001b[32m✔\u001b[39m \u001b[34mstringr  \u001b[39m 1.5.1\n",
      "\u001b[32m✔\u001b[39m \u001b[34mggplot2  \u001b[39m 3.5.1     \u001b[32m✔\u001b[39m \u001b[34mtibble   \u001b[39m 3.2.1\n",
      "\u001b[32m✔\u001b[39m \u001b[34mlubridate\u001b[39m 1.9.3     \u001b[32m✔\u001b[39m \u001b[34mtidyr    \u001b[39m 1.3.1\n",
      "\u001b[32m✔\u001b[39m \u001b[34mpurrr    \u001b[39m 1.0.2     \n",
      "── \u001b[1mConflicts\u001b[22m ────────────────────────────────────────────────────────────────────────────────── tidyverse_conflicts() ──\n",
      "\u001b[31m✖\u001b[39m \u001b[34mdplyr\u001b[39m::\u001b[32mfilter()\u001b[39m masks \u001b[34mstats\u001b[39m::filter()\n",
      "\u001b[31m✖\u001b[39m \u001b[34mdplyr\u001b[39m::\u001b[32mlag()\u001b[39m    masks \u001b[34mstats\u001b[39m::lag()\n",
      "\u001b[36mℹ\u001b[39m Use the conflicted package (\u001b[3m\u001b[34m<http://conflicted.r-lib.org/>\u001b[39m\u001b[23m) to force all conflicts to become errors\n",
      "corrplot 0.92 loaded\n",
      "\n"
     ]
    }
   ],
   "source": [
    "# link necessary libraries\n",
    "library(tidyverse)\n",
    "library(corrplot)\n",
    "\n",
    "# settings for plot visualisation\n",
    "options(repr.plot.height = 5, repr.plot.res = 200)"
   ]
  },
  {
   "cell_type": "markdown",
   "id": "a82f6441-a9ef-45fa-b529-02fa59f7798a",
   "metadata": {},
   "source": [
    "Načítanie datasetu - dataset viete funkciami dostupnými v R stiahnuť a rozbaliť aj z formátu ZIP"
   ]
  },
  {
   "cell_type": "code",
   "execution_count": 3,
   "id": "8db6cd70-f999-4b85-92ef-9156858e4be6",
   "metadata": {},
   "outputs": [],
   "source": [
    "# URL of the dataset\n",
    "dataset_url <- \"https://archive.ics.uci.edu/static/public/519/heart+failure+clinical+records.zip\"\n",
    "\n",
    "# create temporary destination file path with .zip extension\n",
    "dest_file <- tempfile(fileext = \".zip\")\n",
    "\n",
    "# download the dataset, mode = write binary\n",
    "download.file(dataset_url, destfile = dest_file, mode = \"wb\")\n",
    "\n",
    "# unzip the file into chosen location (enter directory)\n",
    "unzip(dest_file, exdir = \"C:\\\\Windows\\\\System32\\\\SleepStudy\") # TODO fill in"
   ]
  },
  {
   "cell_type": "markdown",
   "id": "8af7058b-20cf-4ece-8c7f-e2f38c33e94f",
   "metadata": {},
   "source": [
    "### Úloha 1 (1b)"
   ]
  },
  {
   "cell_type": "markdown",
   "id": "8ceeaa27-3e3e-4b13-9251-2a375fc948d1",
   "metadata": {},
   "source": [
    "Načítajte dataset do premennej `data_hw`."
   ]
  },
  {
   "cell_type": "code",
   "execution_count": 4,
   "id": "2b998cf8-0fa4-4240-80ca-a6c4c483ca52",
   "metadata": {
    "scrolled": true
   },
   "outputs": [
    {
     "name": "stdout",
     "output_type": "stream",
     "text": [
      "Rows: 299\n",
      "Columns: 13\n",
      "$ age                      \u001b[3m\u001b[90m<dbl>\u001b[39m\u001b[23m 75, 55, 65, 50, 65, 90, 75, 60, 65, 80, 75, 6…\n",
      "$ anaemia                  \u001b[3m\u001b[90m<int>\u001b[39m\u001b[23m 0, 0, 0, 1, 1, 1, 1, 1, 0, 1, 1, 0, 1, 1, 1, …\n",
      "$ creatinine_phosphokinase \u001b[3m\u001b[90m<int>\u001b[39m\u001b[23m 582, 7861, 146, 111, 160, 47, 246, 315, 157, …\n",
      "$ diabetes                 \u001b[3m\u001b[90m<int>\u001b[39m\u001b[23m 0, 0, 0, 0, 1, 0, 0, 1, 0, 0, 0, 0, 0, 0, 0, …\n",
      "$ ejection_fraction        \u001b[3m\u001b[90m<int>\u001b[39m\u001b[23m 20, 38, 20, 20, 20, 40, 15, 60, 65, 35, 38, 2…\n",
      "$ high_blood_pressure      \u001b[3m\u001b[90m<int>\u001b[39m\u001b[23m 1, 0, 0, 0, 0, 1, 0, 0, 0, 1, 1, 1, 0, 1, 1, …\n",
      "$ platelets                \u001b[3m\u001b[90m<dbl>\u001b[39m\u001b[23m 265000, 263358, 162000, 210000, 327000, 20400…\n",
      "$ serum_creatinine         \u001b[3m\u001b[90m<dbl>\u001b[39m\u001b[23m 1.90, 1.10, 1.30, 1.90, 2.70, 2.10, 1.20, 1.1…\n",
      "$ serum_sodium             \u001b[3m\u001b[90m<int>\u001b[39m\u001b[23m 130, 136, 129, 137, 116, 132, 137, 131, 138, …\n",
      "$ sex                      \u001b[3m\u001b[90m<int>\u001b[39m\u001b[23m 1, 1, 1, 1, 0, 1, 1, 1, 0, 1, 1, 1, 1, 1, 0, …\n",
      "$ smoking                  \u001b[3m\u001b[90m<int>\u001b[39m\u001b[23m 0, 0, 1, 0, 0, 1, 0, 1, 0, 1, 1, 1, 0, 0, 0, …\n",
      "$ time                     \u001b[3m\u001b[90m<int>\u001b[39m\u001b[23m 4, 6, 7, 7, 8, 8, 10, 10, 10, 10, 10, 10, 11,…\n",
      "$ DEATH_EVENT              \u001b[3m\u001b[90m<int>\u001b[39m\u001b[23m 1, 1, 1, 1, 1, 1, 1, 1, 1, 1, 1, 1, 1, 1, 0, …\n"
     ]
    }
   ],
   "source": [
    "data_hw <- read.csv(\"heart_failure_clinical_records_dataset.csv\")\n",
    "\n",
    "glimpse(data_hw)"
   ]
  },
  {
   "cell_type": "markdown",
   "id": "31431105-076e-45cb-b601-024fb88968ca",
   "metadata": {},
   "source": [
    "   **Obsahuje dataset chýbajúce hodnoty (NA) ?**"
   ]
  },
  {
   "cell_type": "code",
   "execution_count": null,
   "id": "2fcd0a8f-bf3c-4336-a6f1-65a2836b6c2e",
   "metadata": {},
   "outputs": [],
   "source": [
    "NIE"
   ]
  },
  {
   "cell_type": "code",
   "execution_count": 5,
   "id": "b4784b2f-af5e-4e57-af5d-8b75df2432f5",
   "metadata": {},
   "outputs": [
    {
     "name": "stdout",
     "output_type": "stream",
     "text": [
      "[1] FALSE\n",
      "[1] \"There are no NA values\"\n"
     ]
    }
   ],
   "source": [
    "data_na <- any(is.na(data_hw))\n",
    "\n",
    "print(data_na)\n",
    "\n",
    "if (!data_na) {\n",
    "    print(\"There are no NA values\")\n",
    "} else {\n",
    "    print(\"There are SOME NA values\")\n",
    "}"
   ]
  },
  {
   "cell_type": "code",
   "execution_count": null,
   "id": "04a65f00-35dd-4b4f-a2ae-c0f828af8a4d",
   "metadata": {},
   "outputs": [],
   "source": [
    "**Aký typ majú vybrané premenné v datasete ? (numerické/kategorické)** (Ak by ste si pri niektorých premenných neboli istí, zdôvodnite svoju odpoveď.)\n",
    "\n",
    "- age -> numerická\n",
    "- anaemia -> kategorická (buď 0 alebo 1)\n",
    "- high_blood_pressure -> kategorická (buď 0 alebo 1)\n",
    "- serum_sodium -> numerická\n",
    "- death_event -> kategorická (buď 0 alebo 1)"
   ]
  },
  {
   "cell_type": "code",
   "execution_count": 24,
   "id": "b029ce00-f4c0-4d19-86e1-248e2409a498",
   "metadata": {},
   "outputs": [
    {
     "name": "stdout",
     "output_type": "stream",
     "text": [
      "Rows: 299\n",
      "Columns: 13\n",
      "$ age                      \u001b[3m\u001b[90m<dbl>\u001b[39m\u001b[23m 75, 55, 65, 50, 65, 90, 75, 60, 65, 80, 75, 6…\n",
      "$ anaemia                  \u001b[3m\u001b[90m<int>\u001b[39m\u001b[23m 0, 0, 0, 1, 1, 1, 1, 1, 0, 1, 1, 0, 1, 1, 1, …\n",
      "$ creatinine_phosphokinase \u001b[3m\u001b[90m<int>\u001b[39m\u001b[23m 582, 7861, 146, 111, 160, 47, 246, 315, 157, …\n",
      "$ diabetes                 \u001b[3m\u001b[90m<int>\u001b[39m\u001b[23m 0, 0, 0, 0, 1, 0, 0, 1, 0, 0, 0, 0, 0, 0, 0, …\n",
      "$ ejection_fraction        \u001b[3m\u001b[90m<int>\u001b[39m\u001b[23m 20, 38, 20, 20, 20, 40, 15, 60, 65, 35, 38, 2…\n",
      "$ high_blood_pressure      \u001b[3m\u001b[90m<int>\u001b[39m\u001b[23m 1, 0, 0, 0, 0, 1, 0, 0, 0, 1, 1, 1, 0, 1, 1, …\n",
      "$ platelets                \u001b[3m\u001b[90m<dbl>\u001b[39m\u001b[23m 265000, 263358, 162000, 210000, 327000, 20400…\n",
      "$ serum_creatinine         \u001b[3m\u001b[90m<dbl>\u001b[39m\u001b[23m 1.90, 1.10, 1.30, 1.90, 2.70, 2.10, 1.20, 1.1…\n",
      "$ serum_sodium             \u001b[3m\u001b[90m<int>\u001b[39m\u001b[23m 130, 136, 129, 137, 116, 132, 137, 131, 138, …\n",
      "$ sex                      \u001b[3m\u001b[90m<int>\u001b[39m\u001b[23m 1, 1, 1, 1, 0, 1, 1, 1, 0, 1, 1, 1, 1, 1, 0, …\n",
      "$ smoking                  \u001b[3m\u001b[90m<int>\u001b[39m\u001b[23m 0, 0, 1, 0, 0, 1, 0, 1, 0, 1, 1, 1, 0, 0, 0, …\n",
      "$ time                     \u001b[3m\u001b[90m<int>\u001b[39m\u001b[23m 4, 6, 7, 7, 8, 8, 10, 10, 10, 10, 10, 10, 11,…\n",
      "$ DEATH_EVENT              \u001b[3m\u001b[90m<int>\u001b[39m\u001b[23m 1, 1, 1, 1, 1, 1, 1, 1, 1, 1, 1, 1, 1, 1, 0, …\n"
     ]
    }
   ],
   "source": [
    "glimpse(data_hw)"
   ]
  },
  {
   "cell_type": "markdown",
   "id": "22304314-9212-490d-a44b-62c2412888a9",
   "metadata": {},
   "source": [
    "**Obsahuje dataset duplicitné záznamy?** "
   ]
  },
  {
   "cell_type": "raw",
   "id": "5b65d065-ba13-4d6f-8a8f-9a05587039aa",
   "metadata": {},
   "source": [
    "NIE (dat_unique a data_hw maju rovnaku dlzku)"
   ]
  },
  {
   "cell_type": "code",
   "execution_count": 6,
   "id": "4496a777-3bc9-4a84-9790-630b5cd595e5",
   "metadata": {},
   "outputs": [
    {
     "name": "stdout",
     "output_type": "stream",
     "text": [
      "Rows: 299\n",
      "Columns: 13\n",
      "$ age                      \u001b[3m\u001b[90m<dbl>\u001b[39m\u001b[23m 75, 55, 65, 50, 65, 90, 75, 60, 65, 80, 75, 6…\n",
      "$ anaemia                  \u001b[3m\u001b[90m<int>\u001b[39m\u001b[23m 0, 0, 0, 1, 1, 1, 1, 1, 0, 1, 1, 0, 1, 1, 1, …\n",
      "$ creatinine_phosphokinase \u001b[3m\u001b[90m<int>\u001b[39m\u001b[23m 582, 7861, 146, 111, 160, 47, 246, 315, 157, …\n",
      "$ diabetes                 \u001b[3m\u001b[90m<int>\u001b[39m\u001b[23m 0, 0, 0, 0, 1, 0, 0, 1, 0, 0, 0, 0, 0, 0, 0, …\n",
      "$ ejection_fraction        \u001b[3m\u001b[90m<int>\u001b[39m\u001b[23m 20, 38, 20, 20, 20, 40, 15, 60, 65, 35, 38, 2…\n",
      "$ high_blood_pressure      \u001b[3m\u001b[90m<int>\u001b[39m\u001b[23m 1, 0, 0, 0, 0, 1, 0, 0, 0, 1, 1, 1, 0, 1, 1, …\n",
      "$ platelets                \u001b[3m\u001b[90m<dbl>\u001b[39m\u001b[23m 265000, 263358, 162000, 210000, 327000, 20400…\n",
      "$ serum_creatinine         \u001b[3m\u001b[90m<dbl>\u001b[39m\u001b[23m 1.90, 1.10, 1.30, 1.90, 2.70, 2.10, 1.20, 1.1…\n",
      "$ serum_sodium             \u001b[3m\u001b[90m<int>\u001b[39m\u001b[23m 130, 136, 129, 137, 116, 132, 137, 131, 138, …\n",
      "$ sex                      \u001b[3m\u001b[90m<int>\u001b[39m\u001b[23m 1, 1, 1, 1, 0, 1, 1, 1, 0, 1, 1, 1, 1, 1, 0, …\n",
      "$ smoking                  \u001b[3m\u001b[90m<int>\u001b[39m\u001b[23m 0, 0, 1, 0, 0, 1, 0, 1, 0, 1, 1, 1, 0, 0, 0, …\n",
      "$ time                     \u001b[3m\u001b[90m<int>\u001b[39m\u001b[23m 4, 6, 7, 7, 8, 8, 10, 10, 10, 10, 10, 10, 11,…\n",
      "$ DEATH_EVENT              \u001b[3m\u001b[90m<int>\u001b[39m\u001b[23m 1, 1, 1, 1, 1, 1, 1, 1, 1, 1, 1, 1, 1, 1, 0, …\n",
      "Rows: 299\n",
      "Columns: 13\n",
      "$ age                      \u001b[3m\u001b[90m<dbl>\u001b[39m\u001b[23m 75, 55, 65, 50, 65, 90, 75, 60, 65, 80, 75, 6…\n",
      "$ anaemia                  \u001b[3m\u001b[90m<int>\u001b[39m\u001b[23m 0, 0, 0, 1, 1, 1, 1, 1, 0, 1, 1, 0, 1, 1, 1, …\n",
      "$ creatinine_phosphokinase \u001b[3m\u001b[90m<int>\u001b[39m\u001b[23m 582, 7861, 146, 111, 160, 47, 246, 315, 157, …\n",
      "$ diabetes                 \u001b[3m\u001b[90m<int>\u001b[39m\u001b[23m 0, 0, 0, 0, 1, 0, 0, 1, 0, 0, 0, 0, 0, 0, 0, …\n",
      "$ ejection_fraction        \u001b[3m\u001b[90m<int>\u001b[39m\u001b[23m 20, 38, 20, 20, 20, 40, 15, 60, 65, 35, 38, 2…\n",
      "$ high_blood_pressure      \u001b[3m\u001b[90m<int>\u001b[39m\u001b[23m 1, 0, 0, 0, 0, 1, 0, 0, 0, 1, 1, 1, 0, 1, 1, …\n",
      "$ platelets                \u001b[3m\u001b[90m<dbl>\u001b[39m\u001b[23m 265000, 263358, 162000, 210000, 327000, 20400…\n",
      "$ serum_creatinine         \u001b[3m\u001b[90m<dbl>\u001b[39m\u001b[23m 1.90, 1.10, 1.30, 1.90, 2.70, 2.10, 1.20, 1.1…\n",
      "$ serum_sodium             \u001b[3m\u001b[90m<int>\u001b[39m\u001b[23m 130, 136, 129, 137, 116, 132, 137, 131, 138, …\n",
      "$ sex                      \u001b[3m\u001b[90m<int>\u001b[39m\u001b[23m 1, 1, 1, 1, 0, 1, 1, 1, 0, 1, 1, 1, 1, 1, 0, …\n",
      "$ smoking                  \u001b[3m\u001b[90m<int>\u001b[39m\u001b[23m 0, 0, 1, 0, 0, 1, 0, 1, 0, 1, 1, 1, 0, 0, 0, …\n",
      "$ time                     \u001b[3m\u001b[90m<int>\u001b[39m\u001b[23m 4, 6, 7, 7, 8, 8, 10, 10, 10, 10, 10, 10, 11,…\n",
      "$ DEATH_EVENT              \u001b[3m\u001b[90m<int>\u001b[39m\u001b[23m 1, 1, 1, 1, 1, 1, 1, 1, 1, 1, 1, 1, 1, 1, 0, …\n"
     ]
    }
   ],
   "source": [
    "data_unique <- data_hw %>%\n",
    "     distinct()\n",
    "\n",
    "\n",
    "glimpse(data_unique)\n",
    "glimpse(data_hw)"
   ]
  },
  {
   "cell_type": "markdown",
   "id": "96a14512-f20f-499c-8398-d7cd3e6d1289",
   "metadata": {},
   "source": [
    "### Úloha 2 (1b)\n",
    "\n",
    "Skúmajte premennú 'sex' (pohlavie). Premenná je kódovaná hodnotami 0 a 1. ( 0 = žena, 1 = muž) "
   ]
  },
  {
   "cell_type": "code",
   "execution_count": 7,
   "id": "977467e5-d390-4ca4-93b1-33aa9cb576d6",
   "metadata": {
    "scrolled": true
   },
   "outputs": [
    {
     "name": "stdout",
     "output_type": "stream",
     "text": [
      " int [1:299] 1 1 1 1 0 1 1 1 0 1 ...\n"
     ]
    }
   ],
   "source": [
    "data_sex <- data_hw$sex\n",
    "glimpse(data_sex)"
   ]
  },
  {
   "cell_type": "markdown",
   "id": "d7789c28-0857-4a4b-b89e-6bfc9569191f",
   "metadata": {},
   "source": [
    "**Koľko záznamov mužov a žien obsahuje dataset?**"
   ]
  },
  {
   "cell_type": "code",
   "execution_count": 8,
   "id": "567ed537-c9af-4f0b-8128-c1d67795a484",
   "metadata": {},
   "outputs": [
    {
     "data": {
      "text/html": [
       "194"
      ],
      "text/latex": [
       "194"
      ],
      "text/markdown": [
       "194"
      ],
      "text/plain": [
       "[1] 194"
      ]
     },
     "metadata": {},
     "output_type": "display_data"
    },
    {
     "data": {
      "text/html": [
       "194"
      ],
      "text/latex": [
       "194"
      ],
      "text/markdown": [
       "194"
      ],
      "text/plain": [
       "[1] 194"
      ]
     },
     "metadata": {},
     "output_type": "display_data"
    },
    {
     "data": {
      "text/html": [
       "105"
      ],
      "text/latex": [
       "105"
      ],
      "text/markdown": [
       "105"
      ],
      "text/plain": [
       "[1] 105"
      ]
     },
     "metadata": {},
     "output_type": "display_data"
    },
    {
     "data": {
      "text/html": [
       "105"
      ],
      "text/latex": [
       "105"
      ],
      "text/markdown": [
       "105"
      ],
      "text/plain": [
       "[1] 105"
      ]
     },
     "metadata": {},
     "output_type": "display_data"
    }
   ],
   "source": [
    "muzi <- sum(data_sex == 1)\n",
    "muzi\n",
    "\n",
    "muzi_alt <- sum(data_hw$sex == 1)\n",
    "muzi_alt\n",
    "\n",
    "zeny <- sum(data_sex == 0)\n",
    "zeny\n",
    "\n",
    "zeny_alt <- sum(data_hw$sex == 0)\n",
    "zeny_alt"
   ]
  },
  {
   "cell_type": "markdown",
   "id": "4f9085d2-e941-422b-b7f8-5708c0cdce73",
   "metadata": {},
   "source": [
    "**Koľko mužov a žien je nefajčiarov ? (0 = nefajčiar, 1 = fajčiar)**"
   ]
  },
  {
   "cell_type": "raw",
   "id": "36ff4881-2993-4f59-928b-1587e217f93f",
   "metadata": {},
   "source": [
    "ZENY = 101\n",
    "MUZI = 102"
   ]
  },
  {
   "cell_type": "code",
   "execution_count": 9,
   "id": "6767ca22-a5b4-4fe4-9418-476e6af85689",
   "metadata": {},
   "outputs": [
    {
     "data": {
      "text/html": [
       "102"
      ],
      "text/latex": [
       "102"
      ],
      "text/markdown": [
       "102"
      ],
      "text/plain": [
       "[1] 102"
      ]
     },
     "metadata": {},
     "output_type": "display_data"
    },
    {
     "data": {
      "text/html": [
       "92"
      ],
      "text/latex": [
       "92"
      ],
      "text/markdown": [
       "92"
      ],
      "text/plain": [
       "[1] 92"
      ]
     },
     "metadata": {},
     "output_type": "display_data"
    },
    {
     "data": {
      "text/html": [
       "101"
      ],
      "text/latex": [
       "101"
      ],
      "text/markdown": [
       "101"
      ],
      "text/plain": [
       "[1] 101"
      ]
     },
     "metadata": {},
     "output_type": "display_data"
    },
    {
     "data": {
      "text/html": [
       "4"
      ],
      "text/latex": [
       "4"
      ],
      "text/markdown": [
       "4"
      ],
      "text/plain": [
       "[1] 4"
      ]
     },
     "metadata": {},
     "output_type": "display_data"
    }
   ],
   "source": [
    "muzi_nefajc <- sum(data_hw$smoking == 0 & data_hw$sex == 1)\n",
    "muzi_nefajc\n",
    "\n",
    "muzi_fajc <-  sum(data_hw$smoking == 1 & data_hw$sex == 1)\n",
    "muzi_fajc\n",
    "\n",
    "\n",
    "zeny_nefajc <-  sum(data_hw$smoking == 0 & data_hw$sex == 0)\n",
    "zeny_nefajc\n",
    "\n",
    "zeny_fajc <-  sum(data_hw$smoking == 1 & data_hw$sex == 0)\n",
    "zeny_fajc"
   ]
  },
  {
   "cell_type": "markdown",
   "id": "ba365496-6912-408d-bcfc-a7f2993c148e",
   "metadata": {},
   "source": [
    "### Úloha 3 (1b)\n",
    "\n",
    "Popíšte premennú 'age' (vek)."
   ]
  },
  {
   "cell_type": "code",
   "execution_count": 10,
   "id": "12399271-25b2-4871-ab16-dcd9e0fd6f46",
   "metadata": {},
   "outputs": [
    {
     "data": {
      "text/plain": [
       "   Min. 1st Qu.  Median    Mean 3rd Qu.    Max. \n",
       "  40.00   51.00   60.00   60.83   70.00   95.00 "
      ]
     },
     "metadata": {},
     "output_type": "display_data"
    }
   ],
   "source": [
    "summary(data_hw$age)"
   ]
  },
  {
   "cell_type": "markdown",
   "id": "fb2d9df9-7a57-414c-a13f-095acc8bb550",
   "metadata": {},
   "source": [
    "**Aký je minimálny, maximálny a priemerný vek pacientov v datasete?**"
   ]
  },
  {
   "cell_type": "raw",
   "id": "08599e0e-d183-4b31-a224-8f1288bcc12b",
   "metadata": {},
   "source": [
    "MIN = 40\n",
    "MAX = 95\n",
    "MEAN = 60,83"
   ]
  },
  {
   "cell_type": "markdown",
   "id": "65cf63d5-1b33-4d5e-9ce3-c99b01c2f588",
   "metadata": {},
   "source": [
    "**Z akého veku je v datasete najviac záznamov?**"
   ]
  },
  {
   "cell_type": "code",
   "execution_count": 11,
   "id": "e3194a83-3ad1-4ac2-a932-b442e3b4d2e3",
   "metadata": {},
   "outputs": [
    {
     "data": {
      "text/plain": [
       "\n",
       "    40     41     42     43     44     45     46     47     48     49     50 \n",
       "     7      1      7      1      2     19      3      1      2      4     27 \n",
       "    51     52     53     54     55     56     57     58     59     60 60.667 \n",
       "     4      5     10      2     17      1      2     10      4     33      2 \n",
       "    61     62     63     64     65     66     67     68     69     70     72 \n",
       "     4      5      8      3     26      2      2      5      3     25      7 \n",
       "    73     75     77     78     79     80     81     82     85     86     87 \n",
       "     4     11      2      2      1      7      1      3      6      1      1 \n",
       "    90     94     95 \n",
       "     3      1      2 "
      ]
     },
     "metadata": {},
     "output_type": "display_data"
    },
    {
     "name": "stdout",
     "output_type": "stream",
     "text": [
      "60 \n",
      "21 \n",
      "60 \n",
      "33 \n"
     ]
    }
   ],
   "source": [
    "age_table <- table(data_hw$age)\n",
    "age_table\n",
    "\n",
    "index <- which.max(age_table)\n",
    "print(index)\n",
    "\n",
    "print(age_table[index])"
   ]
  },
  {
   "cell_type": "raw",
   "id": "33ffe607-c8ad-4368-a0ad-5de841c5851a",
   "metadata": {},
   "source": [
    "NAJVIAC je 60 ročných a je ich 33"
   ]
  },
  {
   "cell_type": "markdown",
   "id": "6b93d9ab-556a-446f-a880-a5ab7743a96a",
   "metadata": {},
   "source": [
    "### Úloha 4 (1b)\n",
    "\n",
    "Pridajte do datasetu novú premennú s názvom `risk`, ktorá bude predstavovať riziko úmrtia pacienta po zlyhaní srdca. Táto premenná bude kategorická a bude obsahovať hodnoty 'Low' a 'High'. \n",
    "Premennú vytvorte na základe if-else rozhodovania podľa premenných 'age' a 'serum_creatinine':\n",
    "\n",
    "- Ak je vek pacienta väčší ako 50 a zároveň level kreatinínu v krvnom sére ('serum_creatinine') je väčší ako 1.2 mg/dL, tak hodnota premennej 'Risk' je 'High'.\n",
    "- V opačnom prípade je hodnota 'Low'\n",
    "\n",
    "- pre vytvorenie premennej použite funkciu ifelse - https://www.rdocumentation.org/packages/base/versions/3.6.2/topics/ifelse"
   ]
  },
  {
   "cell_type": "code",
   "execution_count": 12,
   "id": "6a9dadd2-509e-4fbf-81c4-99045ba4fa76",
   "metadata": {},
   "outputs": [],
   "source": [
    "data_hw$risk <- ifelse(data_hw$age > 50 & data_hw$serum_creatinine > 1.2, 'High', 'Low')"
   ]
  },
  {
   "cell_type": "code",
   "execution_count": 14,
   "id": "af137d02-94fa-42e6-888c-60786b0d0787",
   "metadata": {},
   "outputs": [
    {
     "name": "stdout",
     "output_type": "stream",
     "text": [
      "Rows: 299\n",
      "Columns: 14\n",
      "$ age                      \u001b[3m\u001b[90m<dbl>\u001b[39m\u001b[23m 75, 55, 65, 50, 65, 90, 75, 60, 65, 80, 75, 6…\n",
      "$ anaemia                  \u001b[3m\u001b[90m<int>\u001b[39m\u001b[23m 0, 0, 0, 1, 1, 1, 1, 1, 0, 1, 1, 0, 1, 1, 1, …\n",
      "$ creatinine_phosphokinase \u001b[3m\u001b[90m<int>\u001b[39m\u001b[23m 582, 7861, 146, 111, 160, 47, 246, 315, 157, …\n",
      "$ diabetes                 \u001b[3m\u001b[90m<int>\u001b[39m\u001b[23m 0, 0, 0, 0, 1, 0, 0, 1, 0, 0, 0, 0, 0, 0, 0, …\n",
      "$ ejection_fraction        \u001b[3m\u001b[90m<int>\u001b[39m\u001b[23m 20, 38, 20, 20, 20, 40, 15, 60, 65, 35, 38, 2…\n",
      "$ high_blood_pressure      \u001b[3m\u001b[90m<int>\u001b[39m\u001b[23m 1, 0, 0, 0, 0, 1, 0, 0, 0, 1, 1, 1, 0, 1, 1, …\n",
      "$ platelets                \u001b[3m\u001b[90m<dbl>\u001b[39m\u001b[23m 265000, 263358, 162000, 210000, 327000, 20400…\n",
      "$ serum_creatinine         \u001b[3m\u001b[90m<dbl>\u001b[39m\u001b[23m 1.90, 1.10, 1.30, 1.90, 2.70, 2.10, 1.20, 1.1…\n",
      "$ serum_sodium             \u001b[3m\u001b[90m<int>\u001b[39m\u001b[23m 130, 136, 129, 137, 116, 132, 137, 131, 138, …\n",
      "$ sex                      \u001b[3m\u001b[90m<int>\u001b[39m\u001b[23m 1, 1, 1, 1, 0, 1, 1, 1, 0, 1, 1, 1, 1, 1, 0, …\n",
      "$ smoking                  \u001b[3m\u001b[90m<int>\u001b[39m\u001b[23m 0, 0, 1, 0, 0, 1, 0, 1, 0, 1, 1, 1, 0, 0, 0, …\n",
      "$ time                     \u001b[3m\u001b[90m<int>\u001b[39m\u001b[23m 4, 6, 7, 7, 8, 8, 10, 10, 10, 10, 10, 10, 11,…\n",
      "$ DEATH_EVENT              \u001b[3m\u001b[90m<int>\u001b[39m\u001b[23m 1, 1, 1, 1, 1, 1, 1, 1, 1, 1, 1, 1, 1, 1, 0, …\n",
      "$ risk                     \u001b[3m\u001b[90m<chr>\u001b[39m\u001b[23m \"High\", \"Low\", \"High\", \"Low\", \"High\", \"High\",…\n"
     ]
    }
   ],
   "source": [
    "glimpse(data_hw)"
   ]
  },
  {
   "cell_type": "markdown",
   "id": "bd48b605-4050-4860-8449-f9a4eb35e8fd",
   "metadata": {},
   "source": [
    "Vizualizujte vysoké riziko úmrtia pre jednotlivé vekové skupiny histogramom:\n",
    "\n",
    "- počet stĺpcov (atribút 'breaks') môže mať predvolenú hodnotu, nemusíte ho špecifikovať\n",
    "\n",
    "- funkcia hist - https://www.rdocumentation.org/packages/graphics/versions/3.6.2/topics/hist\n",
    "\n",
    "(hint: použite funkciu filter na záznamy, kde 'risk' == 'High', a v histograme ako dáta vložte hodnoty z premennej 'age')"
   ]
  },
  {
   "cell_type": "code",
   "execution_count": 20,
   "id": "13e02304-e867-43d4-a51e-92e2c9ae4dfe",
   "metadata": {},
   "outputs": [
    {
     "data": {
      "image/png": "[encoded data removed]",
      "text/plain": [
       "Plot with title \"Histogram of high death risk\""
      ]
     },
     "metadata": {
      "image/png": {
       "height": 500,
       "width": 700
      }
     },
     "output_type": "display_data"
    }
   ],
   "source": [
    "fil <- data_hw %>%\n",
    "    filter(risk == 'High')\n",
    "hist(fil$age, main = 'Histogram of high death risk', xlab = 'Age')"
   ]
  },
  {
   "cell_type": "markdown",
   "id": "beb9312b-dd82-46bb-89b0-ccb6dd2b8106",
   "metadata": {},
   "source": [
    "**V akom veku je riziko zlyhania srdca najväčšie?**"
   ]
  },
  {
   "cell_type": "code",
   "execution_count": 23,
   "id": "796281e8-4812-4339-96ee-9633884284cb",
   "metadata": {},
   "outputs": [
    {
     "data": {
      "text/plain": [
       "\n",
       "    51     52     53     54     55     56     58     59     60 60.667     61 \n",
       "     1      1      3      2      3      1      2      1     18      1      1 \n",
       "    63     64     65     68     69     70     72     73     75     77     78 \n",
       "     2      2     11      1      1      7      4      2      6      1      1 \n",
       "    79     80     82     85     86     90     94     95 \n",
       "     1      5      1      3      1      1      1      1 "
      ]
     },
     "metadata": {},
     "output_type": "display_data"
    },
    {
     "data": {
      "text/html": [
       "<strong>60:</strong> 9"
      ],
      "text/latex": [
       "\\textbf{60:} 9"
      ],
      "text/markdown": [
       "**60:** 9"
      ],
      "text/plain": [
       "60 \n",
       " 9 "
      ]
     },
     "metadata": {},
     "output_type": "display_data"
    }
   ],
   "source": [
    "vek_tab = table(data_hw$age[data_hw$risk == 'High'])\n",
    "vek_tab\n",
    "\n",
    "vek <- which.max(vek_tab)\n",
    "vek"
   ]
  },
  {
   "cell_type": "raw",
   "id": "d330c495-5449-432f-805a-c4729a0b7b03",
   "metadata": {},
   "source": [
    "V 60 rokoch"
   ]
  },
  {
   "cell_type": "markdown",
   "id": "9ba90f86-6bdb-4f53-9c45-7284ff510535",
   "metadata": {},
   "source": [
    "**Koľko záznamov (približne) je v datasete v tejto vekovej kategórii?**"
   ]
  },
  {
   "cell_type": "code",
   "execution_count": 24,
   "id": "d3611d92-c1a3-4494-8e47-d5df017a66b9",
   "metadata": {},
   "outputs": [
    {
     "data": {
      "text/plain": [
       "\n",
       "    51     52     53     54     55     56     58     59     60 60.667     61 \n",
       "     1      1      3      2      3      1      2      1     18      1      1 \n",
       "    63     64     65     68     69     70     72     73     75     77     78 \n",
       "     2      2     11      1      1      7      4      2      6      1      1 \n",
       "    79     80     82     85     86     90     94     95 \n",
       "     1      5      1      3      1      1      1      1 "
      ]
     },
     "metadata": {},
     "output_type": "display_data"
    }
   ],
   "source": [
    "vek_tab"
   ]
  },
  {
   "cell_type": "raw",
   "id": "25f70316-8038-4037-a3d2-f9cf837c2b1e",
   "metadata": {},
   "source": [
    "18"
   ]
  },
  {
   "cell_type": "markdown",
   "id": "f5c0ddad-7e6c-4726-b729-3cfb349ee0b8",
   "metadata": {},
   "source": [
    "### Úloha 5 (1b)\n",
    "\n",
    "Analyzujte koreláciu medzi všetkými atribútmi tohto datasetu (napr. vytvorením correlation plot)\n",
    "\n",
    "- korelácia sa dá analyzovať iba na numerických premenných, preto musíte dátový typ premennej zmeniť na kategorický a ten uložiť vo formáte 'integer' alebo 'numeric'.\n"
   ]
  },
  {
   "cell_type": "code",
   "execution_count": 30,
   "id": "c8322950-1964-43ac-a3f6-d4bedb3802ea",
   "metadata": {
    "scrolled": true
   },
   "outputs": [
    {
     "name": "stdout",
     "output_type": "stream",
     "text": [
      "Rows: 299\n",
      "Columns: 14\n",
      "$ age                      \u001b[3m\u001b[90m<dbl>\u001b[39m\u001b[23m 75, 55, 65, 50, 65, 90, 75, 60, 65, 80, 75, 6…\n",
      "$ anaemia                  \u001b[3m\u001b[90m<int>\u001b[39m\u001b[23m 0, 0, 0, 1, 1, 1, 1, 1, 0, 1, 1, 0, 1, 1, 1, …\n",
      "$ creatinine_phosphokinase \u001b[3m\u001b[90m<int>\u001b[39m\u001b[23m 582, 7861, 146, 111, 160, 47, 246, 315, 157, …\n",
      "$ diabetes                 \u001b[3m\u001b[90m<int>\u001b[39m\u001b[23m 0, 0, 0, 0, 1, 0, 0, 1, 0, 0, 0, 0, 0, 0, 0, …\n",
      "$ ejection_fraction        \u001b[3m\u001b[90m<int>\u001b[39m\u001b[23m 20, 38, 20, 20, 20, 40, 15, 60, 65, 35, 38, 2…\n",
      "$ high_blood_pressure      \u001b[3m\u001b[90m<int>\u001b[39m\u001b[23m 1, 0, 0, 0, 0, 1, 0, 0, 0, 1, 1, 1, 0, 1, 1, …\n",
      "$ platelets                \u001b[3m\u001b[90m<dbl>\u001b[39m\u001b[23m 265000, 263358, 162000, 210000, 327000, 20400…\n",
      "$ serum_creatinine         \u001b[3m\u001b[90m<dbl>\u001b[39m\u001b[23m 1.90, 1.10, 1.30, 1.90, 2.70, 2.10, 1.20, 1.1…\n",
      "$ serum_sodium             \u001b[3m\u001b[90m<int>\u001b[39m\u001b[23m 130, 136, 129, 137, 116, 132, 137, 131, 138, …\n",
      "$ sex                      \u001b[3m\u001b[90m<int>\u001b[39m\u001b[23m 1, 1, 1, 1, 0, 1, 1, 1, 0, 1, 1, 1, 1, 1, 0, …\n",
      "$ smoking                  \u001b[3m\u001b[90m<int>\u001b[39m\u001b[23m 0, 0, 1, 0, 0, 1, 0, 1, 0, 1, 1, 1, 0, 0, 0, …\n",
      "$ time                     \u001b[3m\u001b[90m<int>\u001b[39m\u001b[23m 4, 6, 7, 7, 8, 8, 10, 10, 10, 10, 10, 10, 11,…\n",
      "$ DEATH_EVENT              \u001b[3m\u001b[90m<int>\u001b[39m\u001b[23m 1, 1, 1, 1, 1, 1, 1, 1, 1, 1, 1, 1, 1, 1, 0, …\n",
      "$ risk                     \u001b[3m\u001b[90m<dbl>\u001b[39m\u001b[23m 1, 0, 1, 0, 1, 1, 0, 0, 1, 1, 1, 0, 0, 0, 0, …\n"
     ]
    },
    {
     "data": {
      "image/png": "[encoded data removed]",
      "text/plain": [
       "Plot with title \"\""
      ]
     },
     "metadata": {
      "image/png": {
       "height": 500,
       "width": 700
      }
     },
     "output_type": "display_data"
    }
   ],
   "source": [
    "data_hw_pom <- data_hw\n",
    "data_hw_pom$risk <- ifelse(data_hw_pom$risk == 'High', 1,0)\n",
    "glimpse(data_hw_pom)\n",
    "\n",
    "data_hw_matrix <- cor(data_hw_pom)\n",
    "\n",
    "corrplot(data_hw_matrix)"
   ]
  },
  {
   "cell_type": "markdown",
   "id": "7964b789-3e0c-4478-a270-028d98af3994",
   "metadata": {},
   "source": [
    "**Ktoré atribúty majú medzi sebou najväčšiu zápornú koreláciu?** (uveďte prvé dve dvojice)"
   ]
  },
  {
   "cell_type": "raw",
   "id": "5f1781b1-32f1-442e-91bf-82aefbae6dde",
   "metadata": {},
   "source": [
    "DEATH_EVENT a ejection_fraction, time a DEATH_EVENT"
   ]
  },
  {
   "cell_type": "markdown",
   "id": "45ccd281-4c3a-437b-9fea-a8433d6145ea",
   "metadata": {},
   "source": [
    "**Ktoré atribúty majú medzi sebou najväčšiu kladnú koreláciu?** (uveďte prvú dvojicu)"
   ]
  },
  {
   "cell_type": "raw",
   "id": "d6304b62-d65f-412e-bc2c-f57219a910d9",
   "metadata": {},
   "source": [
    "risk a serum_cretinine"
   ]
  },
  {
   "cell_type": "markdown",
   "id": "4afda479-3c32-4956-b59f-c53c450a42ba",
   "metadata": {},
   "source": [
    "----\n",
    "\n",
    "Viac informácií o zlyhaní srdca: https://www.nhlbi.nih.gov/health/heart-failure"
   ]
  }
 ],
 "metadata": {
  "kernelspec": {
   "display_name": "R",
   "language": "R",
   "name": "ir"
  },
  "language_info": {
   "codemirror_mode": "r",
   "file_extension": ".r",
   "mimetype": "text/x-r-source",
   "name": "R",
   "pygments_lexer": "r",
   "version": "4.4.0"
  }
 },
 "nbformat": 4,
 "nbformat_minor": 5
}
